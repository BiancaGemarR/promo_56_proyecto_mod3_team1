{
 "cells": [
  {
   "cell_type": "code",
   "execution_count": 1,
   "id": "6100987f",
   "metadata": {},
   "outputs": [],
   "source": [
    "import csv \n",
    "import json \n",
    "import pandas as pd\n",
    "pd.set_option(\"display.max_columns\", None)"
   ]
  },
  {
   "cell_type": "code",
   "execution_count": 2,
   "id": "48e5c19a",
   "metadata": {},
   "outputs": [
    {
     "data": {
      "text/plain": [
       "age\n",
       "51                         NaN\n",
       "52                         NaN\n",
       "42     Research & Development \n",
       "47                         NaN\n",
       "46                         NaN\n",
       "                ...           \n",
       "43                         NaN\n",
       "47                         NaN\n",
       "29                         NaN\n",
       "47                         NaN\n",
       "32                         NaN\n",
       "Name: department, Length: 1678, dtype: object"
      ]
     },
     "execution_count": 2,
     "metadata": {},
     "output_type": "execute_result"
    }
   ],
   "source": [
    "df = pd.read_csv(\"hr_raw_data_2023.csv\", index_col=0)\n",
    "df['department']"
   ]
  },
  {
   "cell_type": "code",
   "execution_count": 3,
   "id": "b1aed995",
   "metadata": {},
   "outputs": [
    {
     "data": {
      "text/plain": [
       "age\n",
       "51                                           195370,00$\n",
       "52                                           199990,00$\n",
       "42                                           192320,00$\n",
       "47                                           171690,00$\n",
       "46    12783,92$12783,92$12783,92$12783,92$12783,92$1...\n",
       "                            ...                        \n",
       "43    3949,17$3949,17$3949,17$3949,17$3949,17$3949,1...\n",
       "47                                           191324,62$\n",
       "29                                            28111,13$\n",
       "47                                           100071,84$\n",
       "32                                            53914,11$\n",
       "Name: salary, Length: 1678, dtype: object"
      ]
     },
     "execution_count": 3,
     "metadata": {},
     "output_type": "execute_result"
    }
   ],
   "source": [
    "df['salary']"
   ]
  },
  {
   "cell_type": "code",
   "execution_count": 4,
   "id": "3acd9521",
   "metadata": {},
   "outputs": [],
   "source": [
    "# Divide por el símbolo $\n",
    "df['salary'] = df['salary'].str.split('$')\n",
    "\n",
    "# Extraer lo que está antes\n",
    "df['salary'] = df['salary'].str[0]"
   ]
  },
  {
   "cell_type": "code",
   "execution_count": 5,
   "id": "e4b3f72e",
   "metadata": {},
   "outputs": [
    {
     "data": {
      "text/plain": [
       "age\n",
       "51    195370,00\n",
       "52    199990,00\n",
       "42    192320,00\n",
       "47    171690,00\n",
       "46     12783,92\n",
       "        ...    \n",
       "43      3949,17\n",
       "47    191324,62\n",
       "29     28111,13\n",
       "47    100071,84\n",
       "32     53914,11\n",
       "Name: salary, Length: 1678, dtype: object"
      ]
     },
     "execution_count": 5,
     "metadata": {},
     "output_type": "execute_result"
    }
   ],
   "source": [
    "df['salary']"
   ]
  },
  {
   "cell_type": "code",
   "execution_count": 11,
   "id": "62097f17",
   "metadata": {},
   "outputs": [
    {
     "data": {
      "text/plain": [
       "array([nan, ' Research & Development ', ' Sales ', ' Human Resources '],\n",
       "      dtype=object)"
      ]
     },
     "execution_count": 11,
     "metadata": {},
     "output_type": "execute_result"
    }
   ],
   "source": [
    "df['department'].unique()"
   ]
  },
  {
   "cell_type": "code",
   "execution_count": 12,
   "id": "89c8fa7b",
   "metadata": {},
   "outputs": [
    {
     "data": {
      "text/plain": [
       "1366"
      ]
     },
     "execution_count": 12,
     "metadata": {},
     "output_type": "execute_result"
    }
   ],
   "source": [
    "df['department'].isnull().sum()"
   ]
  },
  {
   "cell_type": "code",
   "execution_count": 13,
   "id": "396e9c81",
   "metadata": {},
   "outputs": [
    {
     "data": {
      "text/plain": [
       "array([3, 4, 2, 1, 5], dtype=int64)"
      ]
     },
     "execution_count": 13,
     "metadata": {},
     "output_type": "execute_result"
    }
   ],
   "source": [
    "df['education'].unique()"
   ]
  },
  {
   "cell_type": "code",
   "execution_count": 14,
   "id": "ac35bd77",
   "metadata": {},
   "outputs": [
    {
     "data": {
      "text/plain": [
       "0"
      ]
     },
     "execution_count": 14,
     "metadata": {},
     "output_type": "execute_result"
    }
   ],
   "source": [
    "df['education'].isnull().sum()"
   ]
  },
  {
   "cell_type": "code",
   "execution_count": 17,
   "id": "db059712",
   "metadata": {},
   "outputs": [
    {
     "data": {
      "text/plain": [
       "Index(['attrition', 'businesstravel', 'dailyrate', 'department',\n",
       "       'distancefromhome', 'education', 'educationfield', 'employeenumber',\n",
       "       'environmentsatisfaction', 'gender', 'jobinvolvement', 'joblevel',\n",
       "       'jobrole', 'jobsatisfaction', 'maritalstatus', 'monthlyincome',\n",
       "       'monthlyrate', 'numcompaniesworked', 'overtime', 'percentsalaryhike',\n",
       "       'performancerating', 'relationshipsatisfaction', 'standardhours',\n",
       "       'stockoptionlevel', 'totalworkingyears', 'trainingtimeslastyear',\n",
       "       'worklifebalance', 'yearsatcompany', 'yearsincurrentrole',\n",
       "       'yearssincelastpromotion', 'yearswithcurrmanager', 'datebirth',\n",
       "       'salary', 'roledepartament', 'numberchildren', 'remotework', 'fin'],\n",
       "      dtype='object')"
      ]
     },
     "execution_count": 17,
     "metadata": {},
     "output_type": "execute_result"
    }
   ],
   "source": [
    "df.columns"
   ]
  },
  {
   "cell_type": "code",
   "execution_count": 19,
   "id": "21da1a77",
   "metadata": {},
   "outputs": [
    {
     "data": {
      "text/plain": [
       "array([ 1,  3,  4,  2, 42, 37, 35, 25, 27, 31, 39, 21, 15, 14, 33, 19, 12,\n",
       "       13, 28, 47, 36, 29, 24, 46, 16, 22, 41, 49, 11, 48, 18, 10, 45, 38,\n",
       "       17, 20, 26, 43], dtype=int64)"
      ]
     },
     "execution_count": 19,
     "metadata": {},
     "output_type": "execute_result"
    }
   ],
   "source": [
    "df['environmentsatisfaction'].unique()"
   ]
  },
  {
   "cell_type": "code",
   "execution_count": 23,
   "id": "cb23de2d",
   "metadata": {},
   "outputs": [],
   "source": [
    "import re"
   ]
  },
  {
   "cell_type": "code",
   "execution_count": 24,
   "id": "f755fbdd",
   "metadata": {},
   "outputs": [
    {
     "ename": "SyntaxError",
     "evalue": "unexpected character after line continuation character (39715220.py, line 2)",
     "output_type": "error",
     "traceback": [
      "\u001b[1;36m  Cell \u001b[1;32mIn[24], line 2\u001b[1;36m\u001b[0m\n\u001b[1;33m    patron = \\d+(\\.\\d+)?\u001b[0m\n\u001b[1;37m              ^\u001b[0m\n\u001b[1;31mSyntaxError\u001b[0m\u001b[1;31m:\u001b[0m unexpected character after line continuation character\n"
     ]
    }
   ],
   "source": [
    "columna = df['environmentsatisfaction']\n",
    "patron = \\d+(\\.\\d+)?\n",
    "\n",
    "def numero(number):\n",
    "    if number == patron:\n",
    "        pass\n",
    "    else:\n",
    "        return patron"
   ]
  },
  {
   "cell_type": "code",
   "execution_count": 32,
   "id": "8f763384",
   "metadata": {},
   "outputs": [
    {
     "data": {
      "text/plain": [
       "age\n",
       "51    1\n",
       "52    3\n",
       "42    3\n",
       "47    1\n",
       "46    1\n",
       "     ..\n",
       "43    2\n",
       "47    4\n",
       "29    3\n",
       "47    3\n",
       "32    4\n",
       "Name: enviromentsatisfactionunique, Length: 1678, dtype: int32"
      ]
     },
     "execution_count": 32,
     "metadata": {},
     "output_type": "execute_result"
    }
   ],
   "source": [
    "df[\"enviromentsatisfactionunique\"] = df[\"environmentsatisfaction\"].astype(str).str[0].astype(int)\n",
    "df['enviromentsatisfactionunique']"
   ]
  },
  {
   "cell_type": "code",
   "execution_count": 33,
   "id": "642f69e2",
   "metadata": {},
   "outputs": [
    {
     "data": {
      "text/plain": [
       "array([1, 3, 4, 2])"
      ]
     },
     "execution_count": 33,
     "metadata": {},
     "output_type": "execute_result"
    }
   ],
   "source": [
    "df['enviromentsatisfactionunique'].unique()"
   ]
  },
  {
   "cell_type": "code",
   "execution_count": 48,
   "id": "3ea76826",
   "metadata": {},
   "outputs": [],
   "source": [
    "df = df.drop('environmentsatisfaction', axis=1)"
   ]
  },
  {
   "cell_type": "code",
   "execution_count": 65,
   "id": "d3bc213d",
   "metadata": {},
   "outputs": [
    {
     "data": {
      "text/plain": [
       "Index(['attrition', 'businesstravel', 'dailyrate', 'department',\n",
       "       'distancefromhome', 'education', 'educationfield', 'employeenumber',\n",
       "       'gender', 'jobinvolvement', 'joblevel', 'jobrole', 'jobsatisfaction',\n",
       "       'maritalstatus', 'monthlyincome', 'monthlyrate', 'numcompaniesworked',\n",
       "       'overtime', 'percentsalaryhike', 'performancerating',\n",
       "       'relationshipsatisfaction', 'standardhours', 'stockoptionlevel',\n",
       "       'totalworkingyears', 'trainingtimeslastyear', 'worklifebalance',\n",
       "       'yearsatcompany', 'yearsincurrentrole', 'yearssincelastpromotion',\n",
       "       'yearswithcurrmanager', 'datebirth', 'salary', 'roledepartament',\n",
       "       'numberchildren', 'remotework', 'fin', 'primer_digito',\n",
       "       'environmentsatisfaction'],\n",
       "      dtype='object')"
      ]
     },
     "execution_count": 65,
     "metadata": {},
     "output_type": "execute_result"
    }
   ],
   "source": [
    "df.columns"
   ]
  },
  {
   "cell_type": "code",
   "execution_count": 64,
   "id": "f0f8c64a",
   "metadata": {},
   "outputs": [],
   "source": [
    "df = df.rename(columns={'enviromentsatisfaction': 'environmentsatisfaction'})"
   ]
  },
  {
   "cell_type": "code",
   "execution_count": 71,
   "id": "4b343206",
   "metadata": {},
   "outputs": [
    {
     "data": {
      "text/plain": [
       "age\n",
       "51    16280.83\n",
       "52         NaN\n",
       "42         NaN\n",
       "47    14307.50\n",
       "46    12783.92\n",
       "        ...   \n",
       "43     3949.17\n",
       "47    15943.72\n",
       "29         NaN\n",
       "47     8339.32\n",
       "32         NaN\n",
       "Name: monthlyincome, Length: 1678, dtype: float64"
      ]
     },
     "execution_count": 71,
     "metadata": {},
     "output_type": "execute_result"
    }
   ],
   "source": [
    "df['monthlyincome']"
   ]
  },
  {
   "cell_type": "code",
   "execution_count": 9,
   "id": "4539ea3e",
   "metadata": {},
   "outputs": [],
   "source": [
    "df['monthlyincome'] = df['monthlyincome'].str.replace('$', '', regex=False)"
   ]
  },
  {
   "cell_type": "code",
   "execution_count": 10,
   "id": "949c73fd",
   "metadata": {},
   "outputs": [],
   "source": [
    "\n",
    "df['monthlyincome'] = df['monthlyincome'].str.replace(',', '.', regex=False)\n",
    "df['monthlyincome'] = df['monthlyincome'].astype(float)\n"
   ]
  },
  {
   "cell_type": "code",
   "execution_count": 7,
   "id": "1188a772",
   "metadata": {},
   "outputs": [
    {
     "data": {
      "text/plain": [
       "age\n",
       "51    195370.00\n",
       "52    199990.00\n",
       "42    192320.00\n",
       "47    171690.00\n",
       "46     12783.92\n",
       "        ...    \n",
       "43      3949.17\n",
       "47    191324.62\n",
       "29     28111.13\n",
       "47    100071.84\n",
       "32     53914.11\n",
       "Name: salary, Length: 1678, dtype: float64"
      ]
     },
     "execution_count": 7,
     "metadata": {},
     "output_type": "execute_result"
    }
   ],
   "source": [
    "df['salary']"
   ]
  },
  {
   "cell_type": "code",
   "execution_count": 77,
   "id": "df08d11b",
   "metadata": {},
   "outputs": [
    {
     "data": {
      "text/html": [
       "<div>\n",
       "<style scoped>\n",
       "    .dataframe tbody tr th:only-of-type {\n",
       "        vertical-align: middle;\n",
       "    }\n",
       "\n",
       "    .dataframe tbody tr th {\n",
       "        vertical-align: top;\n",
       "    }\n",
       "\n",
       "    .dataframe thead th {\n",
       "        text-align: right;\n",
       "    }\n",
       "</style>\n",
       "<table border=\"1\" class=\"dataframe\">\n",
       "  <thead>\n",
       "    <tr style=\"text-align: right;\">\n",
       "      <th></th>\n",
       "      <th>monthlyincome</th>\n",
       "      <th>monthlyrate</th>\n",
       "      <th>salary</th>\n",
       "    </tr>\n",
       "    <tr>\n",
       "      <th>age</th>\n",
       "      <th></th>\n",
       "      <th></th>\n",
       "      <th></th>\n",
       "    </tr>\n",
       "  </thead>\n",
       "  <tbody>\n",
       "    <tr>\n",
       "      <th>51</th>\n",
       "      <td>16280.83</td>\n",
       "      <td>42330.17</td>\n",
       "      <td>195370.00</td>\n",
       "    </tr>\n",
       "    <tr>\n",
       "      <th>52</th>\n",
       "      <td>NaN</td>\n",
       "      <td>43331.17</td>\n",
       "      <td>199990.00</td>\n",
       "    </tr>\n",
       "    <tr>\n",
       "      <th>42</th>\n",
       "      <td>NaN</td>\n",
       "      <td>41669.33</td>\n",
       "      <td>192320.00</td>\n",
       "    </tr>\n",
       "    <tr>\n",
       "      <th>47</th>\n",
       "      <td>14307.50</td>\n",
       "      <td>37199.50</td>\n",
       "      <td>171690.00</td>\n",
       "    </tr>\n",
       "    <tr>\n",
       "      <th>46</th>\n",
       "      <td>12783.92</td>\n",
       "      <td>33238.20</td>\n",
       "      <td>12783.9212783.9212783.9212783.9212783.9212783....</td>\n",
       "    </tr>\n",
       "    <tr>\n",
       "      <th>...</th>\n",
       "      <td>...</td>\n",
       "      <td>...</td>\n",
       "      <td>...</td>\n",
       "    </tr>\n",
       "    <tr>\n",
       "      <th>43</th>\n",
       "      <td>3949.17</td>\n",
       "      <td>10267.83</td>\n",
       "      <td>3949.173949.173949.173949.173949.173949.173949...</td>\n",
       "    </tr>\n",
       "    <tr>\n",
       "      <th>47</th>\n",
       "      <td>15943.72</td>\n",
       "      <td>41453.67</td>\n",
       "      <td>191324.62</td>\n",
       "    </tr>\n",
       "    <tr>\n",
       "      <th>29</th>\n",
       "      <td>NaN</td>\n",
       "      <td>6090.75</td>\n",
       "      <td>28111.13</td>\n",
       "    </tr>\n",
       "    <tr>\n",
       "      <th>47</th>\n",
       "      <td>8339.32</td>\n",
       "      <td>21682.23</td>\n",
       "      <td>100071.84</td>\n",
       "    </tr>\n",
       "    <tr>\n",
       "      <th>32</th>\n",
       "      <td>NaN</td>\n",
       "      <td>11681.39</td>\n",
       "      <td>53914.11</td>\n",
       "    </tr>\n",
       "  </tbody>\n",
       "</table>\n",
       "<p>1678 rows × 3 columns</p>\n",
       "</div>"
      ],
      "text/plain": [
       "     monthlyincome  monthlyrate  \\\n",
       "age                               \n",
       "51        16280.83     42330.17   \n",
       "52             NaN     43331.17   \n",
       "42             NaN     41669.33   \n",
       "47        14307.50     37199.50   \n",
       "46        12783.92     33238.20   \n",
       "..             ...          ...   \n",
       "43         3949.17     10267.83   \n",
       "47        15943.72     41453.67   \n",
       "29             NaN      6090.75   \n",
       "47         8339.32     21682.23   \n",
       "32             NaN     11681.39   \n",
       "\n",
       "                                                salary  \n",
       "age                                                     \n",
       "51                                           195370.00  \n",
       "52                                           199990.00  \n",
       "42                                           192320.00  \n",
       "47                                           171690.00  \n",
       "46   12783.9212783.9212783.9212783.9212783.9212783....  \n",
       "..                                                 ...  \n",
       "43   3949.173949.173949.173949.173949.173949.173949...  \n",
       "47                                           191324.62  \n",
       "29                                            28111.13  \n",
       "47                                           100071.84  \n",
       "32                                            53914.11  \n",
       "\n",
       "[1678 rows x 3 columns]"
      ]
     },
     "execution_count": 77,
     "metadata": {},
     "output_type": "execute_result"
    }
   ],
   "source": [
    "df[['monthlyincome', 'monthlyrate', 'salary']]"
   ]
  },
  {
   "cell_type": "code",
   "execution_count": 82,
   "id": "73cff8b0",
   "metadata": {},
   "outputs": [
    {
     "data": {
      "text/html": [
       "<div>\n",
       "<style scoped>\n",
       "    .dataframe tbody tr th:only-of-type {\n",
       "        vertical-align: middle;\n",
       "    }\n",
       "\n",
       "    .dataframe tbody tr th {\n",
       "        vertical-align: top;\n",
       "    }\n",
       "\n",
       "    .dataframe thead th {\n",
       "        text-align: right;\n",
       "    }\n",
       "</style>\n",
       "<table border=\"1\" class=\"dataframe\">\n",
       "  <thead>\n",
       "    <tr style=\"text-align: right;\">\n",
       "      <th></th>\n",
       "      <th>monthlyincome</th>\n",
       "      <th>salary</th>\n",
       "    </tr>\n",
       "    <tr>\n",
       "      <th>age</th>\n",
       "      <th></th>\n",
       "      <th></th>\n",
       "    </tr>\n",
       "  </thead>\n",
       "  <tbody>\n",
       "    <tr>\n",
       "      <th>51</th>\n",
       "      <td>16280.83</td>\n",
       "      <td>195370.00</td>\n",
       "    </tr>\n",
       "    <tr>\n",
       "      <th>52</th>\n",
       "      <td>NaN</td>\n",
       "      <td>199990.00</td>\n",
       "    </tr>\n",
       "    <tr>\n",
       "      <th>42</th>\n",
       "      <td>NaN</td>\n",
       "      <td>192320.00</td>\n",
       "    </tr>\n",
       "    <tr>\n",
       "      <th>47</th>\n",
       "      <td>14307.50</td>\n",
       "      <td>171690.00</td>\n",
       "    </tr>\n",
       "    <tr>\n",
       "      <th>46</th>\n",
       "      <td>12783.92</td>\n",
       "      <td>12783.9212783.9212783.9212783.9212783.9212783....</td>\n",
       "    </tr>\n",
       "    <tr>\n",
       "      <th>...</th>\n",
       "      <td>...</td>\n",
       "      <td>...</td>\n",
       "    </tr>\n",
       "    <tr>\n",
       "      <th>43</th>\n",
       "      <td>3949.17</td>\n",
       "      <td>3949.173949.173949.173949.173949.173949.173949...</td>\n",
       "    </tr>\n",
       "    <tr>\n",
       "      <th>47</th>\n",
       "      <td>15943.72</td>\n",
       "      <td>191324.62</td>\n",
       "    </tr>\n",
       "    <tr>\n",
       "      <th>29</th>\n",
       "      <td>NaN</td>\n",
       "      <td>28111.13</td>\n",
       "    </tr>\n",
       "    <tr>\n",
       "      <th>47</th>\n",
       "      <td>8339.32</td>\n",
       "      <td>100071.84</td>\n",
       "    </tr>\n",
       "    <tr>\n",
       "      <th>32</th>\n",
       "      <td>NaN</td>\n",
       "      <td>53914.11</td>\n",
       "    </tr>\n",
       "  </tbody>\n",
       "</table>\n",
       "<p>1678 rows × 2 columns</p>\n",
       "</div>"
      ],
      "text/plain": [
       "     monthlyincome                                             salary\n",
       "age                                                                  \n",
       "51        16280.83                                          195370.00\n",
       "52             NaN                                          199990.00\n",
       "42             NaN                                          192320.00\n",
       "47        14307.50                                          171690.00\n",
       "46        12783.92  12783.9212783.9212783.9212783.9212783.9212783....\n",
       "..             ...                                                ...\n",
       "43         3949.17  3949.173949.173949.173949.173949.173949.173949...\n",
       "47        15943.72                                          191324.62\n",
       "29             NaN                                           28111.13\n",
       "47         8339.32                                          100071.84\n",
       "32             NaN                                           53914.11\n",
       "\n",
       "[1678 rows x 2 columns]"
      ]
     },
     "execution_count": 82,
     "metadata": {},
     "output_type": "execute_result"
    }
   ],
   "source": [
    "df[['monthlyincome', 'salary']]"
   ]
  },
  {
   "cell_type": "code",
   "execution_count": 18,
   "id": "232b2b57",
   "metadata": {},
   "outputs": [],
   "source": [
    "df[\"monthlyincome\"] = df[\"monthlyincome\"].fillna(df[\"salary\"] / 12)"
   ]
  },
  {
   "cell_type": "code",
   "execution_count": 20,
   "id": "f4597cdb",
   "metadata": {},
   "outputs": [
    {
     "data": {
      "text/plain": [
       "0"
      ]
     },
     "execution_count": 20,
     "metadata": {},
     "output_type": "execute_result"
    }
   ],
   "source": [
    "df['monthlyincome'].isnull().sum()"
   ]
  },
  {
   "cell_type": "code",
   "execution_count": 21,
   "id": "b748fd3c",
   "metadata": {},
   "outputs": [
    {
     "data": {
      "text/plain": [
       "age\n",
       "51    42330.17\n",
       "52    43331.17\n",
       "42    41669.33\n",
       "47    37199.50\n",
       "46    33238.20\n",
       "        ...   \n",
       "43    10267.83\n",
       "47    41453.67\n",
       "29     6090.75\n",
       "47    21682.23\n",
       "32    11681.39\n",
       "Name: monthlyrate, Length: 1678, dtype: float64"
      ]
     },
     "execution_count": 21,
     "metadata": {},
     "output_type": "execute_result"
    }
   ],
   "source": [
    "df['monthlyrate']"
   ]
  },
  {
   "cell_type": "code",
   "execution_count": 28,
   "id": "0f1d4b49",
   "metadata": {},
   "outputs": [
    {
     "data": {
      "text/plain": [
       "Index(['attrition', 'businesstravel', 'dailyrate', 'department',\n",
       "       'distancefromhome', 'education', 'educationfield', 'employeenumber',\n",
       "       'environmentsatisfaction', 'gender', 'jobinvolvement', 'joblevel',\n",
       "       'jobrole', 'jobsatisfaction', 'maritalstatus', 'monthlyincome',\n",
       "       'monthlyrate', 'numcompaniesworked', 'overtime', 'percentsalaryhike',\n",
       "       'performancerating', 'relationshipsatisfaction', 'standardhours',\n",
       "       'stockoptionlevel', 'totalworkingyears', 'trainingtimeslastyear',\n",
       "       'worklifebalance', 'yearsatcompany', 'yearsincurrentrole',\n",
       "       'yearssincelastpromotion', 'yearswithcurrmanager', 'datebirth',\n",
       "       'salary', 'roledepartament', 'numberchildren', 'remotework', 'fin'],\n",
       "      dtype='object')"
      ]
     },
     "execution_count": 28,
     "metadata": {},
     "output_type": "execute_result"
    }
   ],
   "source": [
    "df.columns"
   ]
  }
 ],
 "metadata": {
  "kernelspec": {
   "display_name": "base",
   "language": "python",
   "name": "python3"
  },
  "language_info": {
   "codemirror_mode": {
    "name": "ipython",
    "version": 3
   },
   "file_extension": ".py",
   "mimetype": "text/x-python",
   "name": "python",
   "nbconvert_exporter": "python",
   "pygments_lexer": "ipython3",
   "version": "3.12.7"
  }
 },
 "nbformat": 4,
 "nbformat_minor": 5
}
