{
 "cells": [
  {
   "cell_type": "code",
   "execution_count": 2,
   "id": "168e60fe",
   "metadata": {},
   "outputs": [],
   "source": [
    "import csv \n",
    "import json \n",
    "import pandas as pd\n",
    "pd.set_option(\"display.max_columns\", None)\n"
   ]
  },
  {
   "cell_type": "code",
   "execution_count": 7,
   "id": "cf333055",
   "metadata": {},
   "outputs": [],
   "source": [
    "df = pd.read_csv('hr_clean_data_2023.csv')"
   ]
  },
  {
   "cell_type": "code",
   "execution_count": 8,
   "id": "9e7d3d0d",
   "metadata": {},
   "outputs": [
    {
     "data": {
      "text/plain": [
       "Index(['age', 'attrition', 'businesstravel', 'dailyrate', 'department',\n",
       "       'distancefromhome', 'education', 'educationfield', 'employeenumber',\n",
       "       'environmentsatisfaction', 'gender', 'jobinvolvement', 'joblevel',\n",
       "       'jobrole', 'jobsatisfaction', 'maritalstatus', 'monthlyincome',\n",
       "       'monthlyrate', 'numcompaniesworked', 'overtime', 'percentsalaryhike',\n",
       "       'performancerating', 'relationshipsatisfaction', 'standardhours',\n",
       "       'stockoptionlevel', 'totalworkingyears', 'trainingtimeslastyear',\n",
       "       'worklifebalance', 'yearsatcompany', 'yearsincurrentrole',\n",
       "       'yearssincelastpromotion', 'yearswithcurrmanager', 'datebirth',\n",
       "       'remotework'],\n",
       "      dtype='object')"
      ]
     },
     "execution_count": 8,
     "metadata": {},
     "output_type": "execute_result"
    }
   ],
   "source": [
    "df.columns"
   ]
  },
  {
   "cell_type": "markdown",
   "id": "aa20c0ba",
   "metadata": {},
   "source": [
    "1. relacionar educacion, con salario\n",
    "2. gender y salario\n",
    "3. departamento, educationfield y salario, jobrole\n",
    "4 .gender y job role\n",
    "5. age y environment satisfaction\n",
    "11. worklifebalance y gender, overtime\n",
    "12. worklifebalance, standarhours, gender\n",
    "\n",
    ".......................................................\n",
    "\n",
    "5. job level y age\n",
    "6. years at company y years in current role\n",
    "7. percent salary hike y relationshipsatisfaction\n",
    "9. remote work, job role\n",
    "10. business travel y job role\n",
    "13. stock option leve, job level, years at company \n",
    "\n"
   ]
  }
 ],
 "metadata": {
  "kernelspec": {
   "display_name": "base",
   "language": "python",
   "name": "python3"
  },
  "language_info": {
   "codemirror_mode": {
    "name": "ipython",
    "version": 3
   },
   "file_extension": ".py",
   "mimetype": "text/x-python",
   "name": "python",
   "nbconvert_exporter": "python",
   "pygments_lexer": "ipython3",
   "version": "3.12.7"
  }
 },
 "nbformat": 4,
 "nbformat_minor": 5
}
