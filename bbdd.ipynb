{
 "cells": [
  {
   "cell_type": "code",
   "execution_count": 44,
   "id": "24e5b989",
   "metadata": {},
   "outputs": [],
   "source": [
    "import mysql.connector\n",
    "from mysql.connector import errorcode\n",
    "import csv"
   ]
  },
  {
   "cell_type": "code",
   "execution_count": 45,
   "id": "15576d1d",
   "metadata": {},
   "outputs": [
    {
     "name": "stdout",
     "output_type": "stream",
     "text": [
      "Base de datos 'bbddcompania' creada con éxito.\n"
     ]
    }
   ],
   "source": [
    "\n",
    "# 1. Establecer la conexión a la base de datos (crear 'cnx' primero)\n",
    "cnx = mysql.connector.connect(\n",
    "        user='root',\n",
    "        password='AlumnaAdalab',\n",
    "        host='127.0.0.1'\n",
    "    )\n",
    "\n",
    "# 2. Crear el cursor a partir de la conexión\n",
    "mycursor = cnx.cursor()\n",
    "\n",
    "# 3. Ejecutar la consulta para crear la base de datos\n",
    "mycursor.execute(\"CREATE DATABASE bbddcompania\")\n",
    "\n",
    "print(\"Base de datos 'bbddcompania' creada con éxito.\")"
   ]
  },
  {
   "cell_type": "code",
   "execution_count": 46,
   "id": "53554ac3",
   "metadata": {},
   "outputs": [],
   "source": [
    "cnx = mysql.connector.connect(user='root', password='AlumnaAdalab',\n",
    "                              host='127.0.0.1',\n",
    "                              database='bbddcompania')"
   ]
  },
  {
   "cell_type": "code",
   "execution_count": 47,
   "id": "173091aa",
   "metadata": {},
   "outputs": [
    {
     "name": "stdout",
     "output_type": "stream",
     "text": [
      "CMySQLCursor: \n",
      "CREATE TABLE IF NOT EXISTS empleados (\n",
      "..\n"
     ]
    }
   ],
   "source": [
    "mycursor = cnx.cursor()\n",
    "try:\n",
    "    mycursor.execute(\"\"\"\n",
    "CREATE TABLE IF NOT EXISTS empleados (\n",
    "    age INTEGER,\n",
    "    attrition TEXT,\n",
    "    businesstravel TEXT,\n",
    "    dailyrate FLOAT,\n",
    "    department TEXT,\n",
    "    distancefromhome INTEGER,\n",
    "    education INTEGER,\n",
    "    educationfield TEXT,\n",
    "    employeenumber INTEGER PRIMARY KEY,\n",
    "    environmentsatisfaction INTEGER,\n",
    "    gender TEXT,\n",
    "    jobinvolvement INTEGER,\n",
    "    joblevel INTEGER,\n",
    "    jobrole TEXT,\n",
    "    jobsatisfaction INTEGER,\n",
    "    maritalstatus TEXT,\n",
    "    monthlyincome FLOAT,\n",
    "    monthlyrate FLOAT,\n",
    "    numcompaniesworked INTEGER,\n",
    "    overtime TEXT,\n",
    "    percentsalaryhike INTEGER,\n",
    "    performancerating VARCHAR(15),\n",
    "    relationshipsatisfaction INTEGER,\n",
    "    standardhours VARCHAR(30),\n",
    "    stockoptionlevel INTEGER,\n",
    "    totalworkingyears VARCHAR(30),\n",
    "    trainingtimeslastyear INTEGER,\n",
    "    worklifebalance VARCHAR(30),\n",
    "    yearsatcompany INTEGER,\n",
    "    yearsincurrentrole VARCHAR(30),\n",
    "    yearssincelastpromotion INTEGER,\n",
    "    yearswithcurrmanager INTEGER,\n",
    "    datebirth INTEGER,\n",
    "    salary TEXT,\n",
    "    roledepartament TEXT,\n",
    "    numberchildren FLOAT,\n",
    "    remotework TEXT\n",
    ");\n",
    "\"\"\")\n",
    "    print(mycursor)\n",
    "except mysql.connector.Error as err:\n",
    "    print(err)\n",
    "    print(\"Error Code:\", err.errno)\n",
    "    print(\"SQLSTATE\", err.sqlstate)\n",
    "    print(\"Message\", err.msg)\n"
   ]
  },
  {
   "cell_type": "code",
   "execution_count": 48,
   "id": "3c088e26",
   "metadata": {},
   "outputs": [
    {
     "name": "stdout",
     "output_type": "stream",
     "text": [
      "1614 registros insertados.\n"
     ]
    }
   ],
   "source": [
    "cnx = mysql.connector.connect(user='root', password='AlumnaAdalab',\n",
    "                              host='127.0.0.1',\n",
    "                              database='bbddcompania')\n",
    "mycursor = cnx.cursor()\n",
    "query = \"\"\"\n",
    "INSERT INTO empleados (\n",
    "    age, attrition, businesstravel, dailyrate, department, distancefromhome,\n",
    "    education, educationfield, employeenumber, environmentsatisfaction,\n",
    "    gender, jobinvolvement, joblevel, jobrole, jobsatisfaction,\n",
    "    maritalstatus, monthlyincome, monthlyrate, numcompaniesworked,\n",
    "    overtime, percentsalaryhike, performancerating, relationshipsatisfaction,\n",
    "    standardhours, stockoptionlevel, totalworkingyears, trainingtimeslastyear,\n",
    "    worklifebalance, yearsatcompany, yearsincurrentrole,\n",
    "    yearssincelastpromotion, yearswithcurrmanager, datebirth, remotework\n",
    ") VALUES (\n",
    "    %s, %s, %s, %s, %s, %s,\n",
    "    %s, %s, %s, %s,\n",
    "    %s, %s, %s, %s, %s,\n",
    "    %s, %s, %s, %s,\n",
    "    %s, %s, %s, %s,\n",
    "    %s, %s, %s, %s,\n",
    "    %s, %s, %s,\n",
    "    %s, %s, %s, %s\n",
    ")\n",
    "\"\"\"\n",
    "\n",
    "datos = []\n",
    "with open('hr_clean_data_2023.csv') as file:\n",
    "    reader = csv.reader(file)\n",
    "    next(reader)  # Saltar encabezados si existen\n",
    "    for fila in reader:\n",
    "            datos.append(fila)\n",
    "\n",
    "try: \n",
    "    mycursor.executemany(query, datos)\n",
    "    cnx.commit()\n",
    "    print(mycursor.rowcount, \"registros insertados.\")\n",
    "\n",
    "except mysql.connector.Error as err:\n",
    "    print(err)\n",
    "    print(\"Error Code:\", err.errno)\n",
    "    print(\"SQLSTATE\", err.sqlstate)\n",
    "    print(\"Message\", err.msg)\n",
    "\n",
    "mycursor.close()\n",
    "cnx.close()"
   ]
  }
 ],
 "metadata": {
  "kernelspec": {
   "display_name": "base",
   "language": "python",
   "name": "python3"
  },
  "language_info": {
   "codemirror_mode": {
    "name": "ipython",
    "version": 3
   },
   "file_extension": ".py",
   "mimetype": "text/x-python",
   "name": "python",
   "nbconvert_exporter": "python",
   "pygments_lexer": "ipython3",
   "version": "3.12.7"
  }
 },
 "nbformat": 4,
 "nbformat_minor": 5
}
