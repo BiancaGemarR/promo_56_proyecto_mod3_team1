{
 "cells": [
  {
   "cell_type": "markdown",
   "id": "a00aeb91",
   "metadata": {},
   "source": [
    "\n",
    "28. 'stock option level' -- qué significa exactamente?\n",
    "29. 'total working years' -- ok\n",
    "30. 'training times year' -- sesiones de aprendizaje\n",
    "31. 'work life balance' --1 al 3,float y nan, object-- drop posiblemente o float, se necesita?\n",
    "32. 'years at the company' --ok\n",
    "33. ' year current role' --mucha gente no contesta, se la suda. hay que arreglarlo\n",
    "34. 'years since last promotion' -- escala del 0 al 15, ok\n",
    "35. 'years with curr manager' --ok\n",
    "36. 'same as monthly income' -- drop, drop, drop\n",
    "37. 'date birth' -- ok\n",
    "38. 'salary' --- drop este o monthly income, hay que ver\n",
    "39. 'role department' -- combinación de role y departamento, mayus, min \n",
    "40. 'number children' -- solo tiene nan. fuera droooooop!!! #recomendación para la conciliación/worklifebalance\n",
    "41. 'remote work' -- yes, 1, true, false , 0\n"
   ]
  },
  {
   "cell_type": "markdown",
   "id": "ff47f6d3",
   "metadata": {},
   "source": []
  },
  {
   "cell_type": "markdown",
   "id": "ce2f1c61",
   "metadata": {},
   "source": [
    "---hecho ya !!!\n",
    "1. 'age', toca rectificar. ¿Con datebirth? Restar el año/dia actual y así actualizar . Es object\n",
    "2. 'atrittion' --ok. es object \n",
    "3. 'business travel' --object- diferentes categorías,\n",
    "4. 'dailyrate' --se necesitan tantos decimales? se puede round. float ok OK 21/07\n",
    "6. 'Distance from home' --alguien vive en el centro de la tierra --> hay núm negativos. int (cambiar float?) todos con casa 21/07\n",
    "\n",
    "7. 'education' --- nivel del 1 al 5 --Int\n",
    "8. 'education field' -object. ok\n",
    "9. 'employeecount' -- DROPEADO \n",
    "11. 'enviromentsatisfaction' -- OK\n",
    "12. columna gender, rectificada. HECHO 21/07\n",
    "13. 'hourly rate' --- dropeada\n",
    "14. 'job involvement' ---escala del 1 al 4, parece ok\n",
    "--jobrole-- arreglado\n",
    "15. 'job level' --OK\n",
    "16. 'job satisfaction' -- ok\n",
    "17. 'marital status' --CORREGIDOS ERRORES ORTOGRÁFICOS,\n",
    "20. 'num companyes worked' --ok\n",
    "21. 'over 18' - Tiene pinta de drop-- se va.\n",
    "22. 'over time' --como dato es raruno, porque no hay horas trabajadas, sinó, más bien si quieren o no hacer horas extra.\n",
    "18. 'monthly income' -- rectificado\n",
    "19. 'monthly rate' --corregir el $, convertirlo a float, ' ', el tesoro de los mayas, tiene todas las columnas y se pueden calcular otras como hourlyrate o dailyrate si fuera necesario\n",
    "23. 'percent salary .. ' -ok\n",
    "24. 'performance rating' -- la escala solo tiene '3', '4', 'Nan', está raruna los valores. Faltan valores. -posible drop\n",
    "25. 'overtime' \n",
    "26. ok\n",
    "27. 'standard hours' ---object, full-time y part-time\n",
    "·performance rating #va del 1 al 4, mantener los nulos, intentar profundizar con el job role o job department\n",
    "27. 'relaciones interpersonales' --- escala del 1 al 4 ok"
   ]
  },
  {
   "cell_type": "markdown",
   "id": "29d8d5dd",
   "metadata": {},
   "source": [
    "---next step!!!\n",
    "10. 'employeenumber' --  hay duplicados to be continued, no quiere decir que esté mal; LOS 64 DUPLICADOS TIENEN MISMA INFO"
   ]
  },
  {
   "cell_type": "markdown",
   "id": "364e2291",
   "metadata": {},
   "source": [
    "---sugerencias\n",
    "5. 'department' hay gente sin puesto en la empresa. object. Puede ser que falten puestos de trabajos a definir, como sugerencia en los próximos años de la empresa, empezar a ponerlos."
   ]
  },
  {
   "cell_type": "markdown",
   "id": "d05690c2",
   "metadata": {},
   "source": [
    "Jueves 31\n",
    "--Maria: acabar el archivo con funciones\n",
    "--Paula: empezar a hacer gráficas\n",
    "--Bianca: acabar funciones, cuando todo esté limpio, no vamos todas a las gráficas"
   ]
  },
  {
   "cell_type": "markdown",
   "id": "6652522e",
   "metadata": {},
   "source": [
    "Cosas a comentar:"
   ]
  }
 ],
 "metadata": {
  "language_info": {
   "name": "python"
  }
 },
 "nbformat": 4,
 "nbformat_minor": 5
}
