{
 "cells": [
  {
   "cell_type": "code",
   "execution_count": 2,
   "id": "43900058",
   "metadata": {},
   "outputs": [],
   "source": [
    "import csv \n",
    "import json \n",
    "import pandas as pd\n",
    "pd.set_option(\"display.max_columns\", None)"
   ]
  },
  {
   "cell_type": "code",
   "execution_count": 3,
   "id": "57e65420",
   "metadata": {},
   "outputs": [
    {
     "data": {
      "text/html": [
       "<div>\n",
       "<style scoped>\n",
       "    .dataframe tbody tr th:only-of-type {\n",
       "        vertical-align: middle;\n",
       "    }\n",
       "\n",
       "    .dataframe tbody tr th {\n",
       "        vertical-align: top;\n",
       "    }\n",
       "\n",
       "    .dataframe thead th {\n",
       "        text-align: right;\n",
       "    }\n",
       "</style>\n",
       "<table border=\"1\" class=\"dataframe\">\n",
       "  <thead>\n",
       "    <tr style=\"text-align: right;\">\n",
       "      <th></th>\n",
       "      <th>age</th>\n",
       "      <th>attrition</th>\n",
       "      <th>businesstravel</th>\n",
       "      <th>dailyrate</th>\n",
       "      <th>department</th>\n",
       "      <th>distancefromhome</th>\n",
       "      <th>education</th>\n",
       "      <th>educationfield</th>\n",
       "      <th>employeecount</th>\n",
       "      <th>employeenumber</th>\n",
       "      <th>environmentsatisfaction</th>\n",
       "      <th>gender</th>\n",
       "      <th>hourlyrate</th>\n",
       "      <th>jobinvolvement</th>\n",
       "      <th>joblevel</th>\n",
       "      <th>jobrole</th>\n",
       "      <th>jobsatisfaction</th>\n",
       "      <th>maritalstatus</th>\n",
       "      <th>monthlyincome</th>\n",
       "      <th>monthlyrate</th>\n",
       "      <th>numcompaniesworked</th>\n",
       "      <th>over18</th>\n",
       "      <th>overtime</th>\n",
       "      <th>percentsalaryhike</th>\n",
       "      <th>performancerating</th>\n",
       "      <th>relationshipsatisfaction</th>\n",
       "      <th>standardhours</th>\n",
       "      <th>stockoptionlevel</th>\n",
       "      <th>totalworkingyears</th>\n",
       "      <th>trainingtimeslastyear</th>\n",
       "      <th>worklifebalance</th>\n",
       "      <th>yearsatcompany</th>\n",
       "      <th>yearsincurrentrole</th>\n",
       "      <th>yearssincelastpromotion</th>\n",
       "      <th>yearswithcurrmanager</th>\n",
       "      <th>sameasmonthlyincome</th>\n",
       "      <th>datebirth</th>\n",
       "      <th>salary</th>\n",
       "      <th>roledepartament</th>\n",
       "      <th>numberchildren</th>\n",
       "      <th>remotework</th>\n",
       "    </tr>\n",
       "  </thead>\n",
       "  <tbody>\n",
       "    <tr>\n",
       "      <th>0</th>\n",
       "      <td>51</td>\n",
       "      <td>No</td>\n",
       "      <td>NaN</td>\n",
       "      <td>2015.722222</td>\n",
       "      <td>NaN</td>\n",
       "      <td>6</td>\n",
       "      <td>3</td>\n",
       "      <td>NaN</td>\n",
       "      <td>1</td>\n",
       "      <td>1</td>\n",
       "      <td>1</td>\n",
       "      <td>0</td>\n",
       "      <td>NaN</td>\n",
       "      <td>3</td>\n",
       "      <td>5</td>\n",
       "      <td>resEArch DIREcToR</td>\n",
       "      <td>3</td>\n",
       "      <td>NaN</td>\n",
       "      <td>16280,83$</td>\n",
       "      <td>42330,17$</td>\n",
       "      <td>7</td>\n",
       "      <td>Y</td>\n",
       "      <td>No</td>\n",
       "      <td>13</td>\n",
       "      <td>3,0</td>\n",
       "      <td>3</td>\n",
       "      <td>Full Time</td>\n",
       "      <td>0</td>\n",
       "      <td>NaN</td>\n",
       "      <td>5</td>\n",
       "      <td>3,0</td>\n",
       "      <td>20</td>\n",
       "      <td>NaN</td>\n",
       "      <td>15</td>\n",
       "      <td>15</td>\n",
       "      <td>16280,83$</td>\n",
       "      <td>1972</td>\n",
       "      <td>195370,00$</td>\n",
       "      <td>NaN</td>\n",
       "      <td>NaN</td>\n",
       "      <td>Yes</td>\n",
       "    </tr>\n",
       "    <tr>\n",
       "      <th>1</th>\n",
       "      <td>52</td>\n",
       "      <td>No</td>\n",
       "      <td>NaN</td>\n",
       "      <td>2063.388889</td>\n",
       "      <td>NaN</td>\n",
       "      <td>1</td>\n",
       "      <td>4</td>\n",
       "      <td>Life Sciences</td>\n",
       "      <td>1</td>\n",
       "      <td>2</td>\n",
       "      <td>3</td>\n",
       "      <td>0</td>\n",
       "      <td>NaN</td>\n",
       "      <td>2</td>\n",
       "      <td>5</td>\n",
       "      <td>ManAGeR</td>\n",
       "      <td>3</td>\n",
       "      <td>NaN</td>\n",
       "      <td>NaN</td>\n",
       "      <td>43331,17$</td>\n",
       "      <td>0</td>\n",
       "      <td>NaN</td>\n",
       "      <td>NaN</td>\n",
       "      <td>14</td>\n",
       "      <td>3,0</td>\n",
       "      <td>1</td>\n",
       "      <td>NaN</td>\n",
       "      <td>1</td>\n",
       "      <td>34,0</td>\n",
       "      <td>5</td>\n",
       "      <td>3,0</td>\n",
       "      <td>33</td>\n",
       "      <td>NaN</td>\n",
       "      <td>11</td>\n",
       "      <td>9</td>\n",
       "      <td>NaN</td>\n",
       "      <td>1971</td>\n",
       "      <td>199990,00$</td>\n",
       "      <td>NaN</td>\n",
       "      <td>NaN</td>\n",
       "      <td>1</td>\n",
       "    </tr>\n",
       "  </tbody>\n",
       "</table>\n",
       "</div>"
      ],
      "text/plain": [
       "  age attrition businesstravel    dailyrate department  distancefromhome  \\\n",
       "0  51        No            NaN  2015.722222        NaN                 6   \n",
       "1  52        No            NaN  2063.388889        NaN                 1   \n",
       "\n",
       "   education educationfield  employeecount  employeenumber  \\\n",
       "0          3            NaN              1               1   \n",
       "1          4  Life Sciences              1               2   \n",
       "\n",
       "   environmentsatisfaction  gender  hourlyrate  jobinvolvement  joblevel  \\\n",
       "0                        1       0         NaN               3         5   \n",
       "1                        3       0         NaN               2         5   \n",
       "\n",
       "               jobrole  jobsatisfaction maritalstatus monthlyincome  \\\n",
       "0   resEArch DIREcToR                 3           NaN     16280,83$   \n",
       "1             ManAGeR                 3           NaN           NaN   \n",
       "\n",
       "  monthlyrate  numcompaniesworked over18 overtime  percentsalaryhike  \\\n",
       "0   42330,17$                   7      Y       No                 13   \n",
       "1   43331,17$                   0    NaN      NaN                 14   \n",
       "\n",
       "  performancerating  relationshipsatisfaction standardhours  stockoptionlevel  \\\n",
       "0               3,0                         3     Full Time                 0   \n",
       "1               3,0                         1           NaN                 1   \n",
       "\n",
       "  totalworkingyears  trainingtimeslastyear worklifebalance  yearsatcompany  \\\n",
       "0               NaN                      5             3,0              20   \n",
       "1              34,0                      5             3,0              33   \n",
       "\n",
       "  yearsincurrentrole  yearssincelastpromotion  yearswithcurrmanager  \\\n",
       "0                NaN                       15                    15   \n",
       "1                NaN                       11                     9   \n",
       "\n",
       "  sameasmonthlyincome  datebirth      salary roledepartament  numberchildren  \\\n",
       "0           16280,83$       1972  195370,00$             NaN             NaN   \n",
       "1                 NaN       1971  199990,00$             NaN             NaN   \n",
       "\n",
       "  remotework  \n",
       "0        Yes  \n",
       "1          1  "
      ]
     },
     "execution_count": 3,
     "metadata": {},
     "output_type": "execute_result"
    }
   ],
   "source": [
    "df = pd.read_csv('hr_raw_data.csv', index_col=0)\n",
    "df.head(2)"
   ]
  },
  {
   "cell_type": "code",
   "execution_count": 4,
   "id": "d1370ff3",
   "metadata": {},
   "outputs": [],
   "source": [
    "#funciones\n",
    "\n",
    "# Poner todos los nombres de columnas en minúsculas\n",
    "def poner_headers_minusculas(df):\n",
    "    nuevas_columnas = {columna: columna.lower() for columna in df.columns}\n",
    "    df.rename(columns=nuevas_columnas, inplace=True)\n",
    "\n",
    "# Redondear los valores de una columna a 2 decimales\n",
    "def redondear_columna(df, nombre_columna):\n",
    "    df[nombre_columna] = df[nombre_columna].round(2)\n",
    "\n",
    "# Cambiar valores negativos por positivos en una columna\n",
    "def hacer_valores_positivos(df, nombre_columna):\n",
    "    df[nombre_columna] = df[nombre_columna].abs()\n",
    "\n",
    "# Eliminar columnas que no se necesitan\n",
    "def eliminar_columnas(df, lista_columnas):\n",
    "    df.drop(lista_columnas, axis=1, inplace=True)\n",
    "\n",
    "# Dejar solo el primer número de una columna y convertirlo en entero\n",
    "def primer_numero_a_entero(df, nombre_columna):\n",
    "    df[nombre_columna] = df[nombre_columna].astype(str).str[0].astype(int)\n",
    "\n",
    "# Reemplazar valores de una columna según un diccionario\n",
    "def reemplazar_valores(df, nombre_columna, reemplazos):\n",
    "    df[nombre_columna] = df[nombre_columna].replace(reemplazos)\n",
    "\n",
    "# Convertir los textos de una columna a minúsculas\n",
    "def poner_columna_minusculas(df, nombre_columna):\n",
    "    df[nombre_columna] = df[nombre_columna].str.lower()\n",
    "\n",
    "# Limpiar columna de dinero: quitar $ y cambiar , por . luego convertir a número decimal\n",
    "def limpiar_columna_dinero(df, nombre_columna):\n",
    "    df[nombre_columna] = df[nombre_columna].astype(str)\n",
    "    df[nombre_columna] = df[nombre_columna].str.replace('$', '', regex=False)\n",
    "    df[nombre_columna] = df[nombre_columna].str.replace(',', '.', regex=False)\n",
    "    df[nombre_columna] = df[nombre_columna].astype(float)\n",
    "\n",
    "# Convertir una columna a tipo decimal (float)\n",
    "def convertir_a_decimal(df, nombre_columna):\n",
    "    df[nombre_columna] = pd.to_numeric(df[nombre_columna], errors='coerce')\n",
    "\n",
    "def calcular_edad(df, nombre_columna):\n",
    "    df['age']= 2023 - df[nombre_columna]\n",
    "    return df['age']\n",
    "\n",
    "def nulos_salario(df):\n",
    "    df[\"monthlyincome\"] = df[\"monthlyincome\"].fillna(df[\"salary\"] / 12)\n",
    "    return round(df['monthlyincome'], 2)\n",
    "\n",
    "def tiempo_total(df):\n",
    "    df['standardhours'] = df['standardhours'].fillna('Full Time')\n",
    "    return df['standardhours']"
   ]
  },
  {
   "cell_type": "code",
   "execution_count": 5,
   "id": "9938efe3",
   "metadata": {},
   "outputs": [
    {
     "data": {
      "text/plain": [
       "0       Full Time\n",
       "1       Full Time\n",
       "2       Full Time\n",
       "3       Full Time\n",
       "4       Full Time\n",
       "          ...    \n",
       "1673    Full Time\n",
       "1674    Full Time\n",
       "1675    Part Time\n",
       "1676    Part Time\n",
       "1677    Part Time\n",
       "Name: standardhours, Length: 1678, dtype: object"
      ]
     },
     "execution_count": 5,
     "metadata": {},
     "output_type": "execute_result"
    }
   ],
   "source": [
    "#ejemplos de uso\n",
    "poner_headers_minusculas(df)\n",
    "\n",
    "redondear_columna(df, 'dailyrate')\n",
    "hacer_valores_positivos(df, 'distancefromhome')\n",
    "#eliminar_columnas(df, 'employeecount')\n",
    "#eliminar_columnas(df,'hourlyrate') \n",
    "#eliminar_columnas(df, 'roledepartament')\n",
    "#eliminar_columnas(df, 'numberchildren')\n",
    "#eliminar_columnas(df, 'over18')\n",
    "#eliminar_columnas(df, 'sameasmonthlyincome')\n",
    "primer_numero_a_entero(df, 'environmentsatisfaction')\n",
    "\n",
    "reemplazar_valores(df, 'gender', {0: 'M', 1: 'F'})\n",
    "poner_columna_minusculas(df, 'jobrole')\n",
    "poner_columna_minusculas(df, 'maritalstatus')\n",
    "reemplazar_valores(df, 'maritalstatus', {'marreid': 'married'})\n",
    "\n",
    "#limpiar_columna_dinero(df, 'monthlyrate')\n",
    "#limpiar_columna_dinero(df, 'salary')\n",
    "#limpiar_columna_dinero(df, 'monthlyincome')\n",
    "\n",
    "reemplazar_valores(df, 'remotework', {\n",
    "    \"1\": 'Yes', \"0\": 'No', \"False\": 'No', \"True\": 'Yes'\n",
    "})\n",
    "\n",
    "calcular_edad(df, 'datebirth')\n",
    "\n",
    "#nulos_salario(df)\n",
    "tiempo_total(df)"
   ]
  },
  {
   "cell_type": "code",
   "execution_count": null,
   "id": "bd1b3fc1",
   "metadata": {},
   "outputs": [],
   "source": [
    "#eliminar_columnas(df,'salary' ) \n",
    "# se necesita para calcular monthlyincome, \n",
    "# pero después se va porque es info repetida"
   ]
  },
  {
   "cell_type": "code",
   "execution_count": null,
   "id": "9a9aae9c",
   "metadata": {},
   "outputs": [
    {
     "data": {
      "text/plain": [
       "1643"
      ]
     },
     "execution_count": 55,
     "metadata": {},
     "output_type": "execute_result"
    }
   ],
   "source": [
    "df['yearsincurrentrole'].isnull().sum() #hay muchos nulos no es representativo"
   ]
  },
  {
   "cell_type": "code",
   "execution_count": 61,
   "id": "cedc2ded",
   "metadata": {},
   "outputs": [
    {
     "data": {
      "text/plain": [
       "0"
      ]
     },
     "execution_count": 61,
     "metadata": {},
     "output_type": "execute_result"
    }
   ],
   "source": [
    "#duplicados\n",
    "df['employeenumber'].duplicated().sum()"
   ]
  },
  {
   "cell_type": "code",
   "execution_count": 59,
   "id": "9a8d0e36",
   "metadata": {},
   "outputs": [],
   "source": [
    "df.drop_duplicates(subset=['employeenumber'], keep='first', inplace=True)"
   ]
  },
  {
   "cell_type": "code",
   "execution_count": 6,
   "id": "3622b55d",
   "metadata": {},
   "outputs": [
    {
     "data": {
      "text/plain": [
       "0       51\n",
       "1       52\n",
       "2       42\n",
       "3       47\n",
       "4       46\n",
       "        ..\n",
       "1673    43\n",
       "1674    47\n",
       "1675    29\n",
       "1676    47\n",
       "1677    32\n",
       "Name: age, Length: 1678, dtype: int64"
      ]
     },
     "execution_count": 6,
     "metadata": {},
     "output_type": "execute_result"
    }
   ],
   "source": [
    "df['age']"
   ]
  },
  {
   "cell_type": "code",
   "execution_count": 7,
   "id": "f40d77c0",
   "metadata": {},
   "outputs": [
    {
     "data": {
      "text/plain": [
       "Index(['age', 'attrition', 'businesstravel', 'dailyrate', 'department',\n",
       "       'distancefromhome', 'education', 'educationfield', 'employeecount',\n",
       "       'employeenumber', 'environmentsatisfaction', 'gender', 'hourlyrate',\n",
       "       'jobinvolvement', 'joblevel', 'jobrole', 'jobsatisfaction',\n",
       "       'maritalstatus', 'monthlyincome', 'monthlyrate', 'numcompaniesworked',\n",
       "       'over18', 'overtime', 'percentsalaryhike', 'performancerating',\n",
       "       'relationshipsatisfaction', 'standardhours', 'stockoptionlevel',\n",
       "       'totalworkingyears', 'trainingtimeslastyear', 'worklifebalance',\n",
       "       'yearsatcompany', 'yearsincurrentrole', 'yearssincelastpromotion',\n",
       "       'yearswithcurrmanager', 'sameasmonthlyincome', 'datebirth', 'salary',\n",
       "       'roledepartament', 'numberchildren', 'remotework'],\n",
       "      dtype='object')"
      ]
     },
     "execution_count": 7,
     "metadata": {},
     "output_type": "execute_result"
    }
   ],
   "source": [
    "df.columns"
   ]
  },
  {
   "cell_type": "code",
   "execution_count": 62,
   "id": "6d697ca8",
   "metadata": {},
   "outputs": [],
   "source": [
    "df.to_csv(\"hr_clean_data_2023.csv\", index=False)"
   ]
  }
 ],
 "metadata": {
  "kernelspec": {
   "display_name": "base",
   "language": "python",
   "name": "python3"
  },
  "language_info": {
   "codemirror_mode": {
    "name": "ipython",
    "version": 3
   },
   "file_extension": ".py",
   "mimetype": "text/x-python",
   "name": "python",
   "nbconvert_exporter": "python",
   "pygments_lexer": "ipython3",
   "version": "3.12.7"
  }
 },
 "nbformat": 4,
 "nbformat_minor": 5
}
